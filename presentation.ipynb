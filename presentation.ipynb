{
 "cells": [
  {
   "cell_type": "markdown",
   "metadata": {},
   "source": [
    "# Text search with Tries\n",
    "\n",
    "— _Chidi Williams_\n"
   ]
  },
  {
   "cell_type": "markdown",
   "metadata": {},
   "source": [
    "## 1. Find the prefix\n"
   ]
  },
  {
   "cell_type": "markdown",
   "metadata": {},
   "source": [
    "Let's write a program that checks if a list of words contains a prefix:\n"
   ]
  },
  {
   "cell_type": "code",
   "execution_count": null,
   "metadata": {},
   "outputs": [],
   "source": [
    "from typing import List\n",
    "from pprint import pprint\n",
    "\n",
    "\n",
    "def insert(dictionary: List[str], word: str) -> None:\n",
    "    dictionary.append(word)\n",
    "\n",
    "\n",
    "dictionary = []\n",
    "insert(dictionary, 'ant')\n",
    "insert(dictionary, 'antelope')\n",
    "insert(dictionary, 'bear')\n",
    "insert(dictionary, 'cat')\n",
    "insert(dictionary, 'dog')\n",
    "\n",
    "pprint(dictionary)\n"
   ]
  },
  {
   "cell_type": "code",
   "execution_count": null,
   "metadata": {},
   "outputs": [],
   "source": [
    "def contains_prefix(dictionary: List[str], prefix: str) -> bool:\n",
    "    for word in dictionary:\n",
    "        if len(word) < len(prefix):\n",
    "            continue\n",
    "        prefixed = True\n",
    "        for i, _ in enumerate(prefix):\n",
    "            if prefix[i] != word[i]:\n",
    "                prefixed = False\n",
    "        if prefixed:\n",
    "            return True\n",
    "    return False\n",
    "\n",
    "\n",
    "assert contains_prefix(dictionary, 'ant') is True\n",
    "assert contains_prefix(dictionary, 'bear') is True\n",
    "assert contains_prefix(dictionary, 'lion') is False\n"
   ]
  },
  {
   "cell_type": "markdown",
   "metadata": {},
   "source": [
    "## 2. Find the prefix\n"
   ]
  },
  {
   "cell_type": "markdown",
   "metadata": {},
   "source": [
    "- To find the matches in `contains_prefix`, we check every word in the dictionary and then compare the prefix to the word.\n",
    "\n",
    "- If the length of the dictionary is $p$ and the length of the prefix is $q$,\n",
    "  the runtime complexity of the program is $O(p*q)$.\n",
    "\n",
    "- **Can we do better?**\n"
   ]
  },
  {
   "cell_type": "markdown",
   "metadata": {},
   "source": [
    "## 3. How to find a thing\n"
   ]
  },
  {
   "cell_type": "markdown",
   "metadata": {},
   "source": [
    "- Think about how we buy things we need:\n",
    "\n",
    "  - Want some food? Go to the food market!\n",
    "\n",
    "    <img src=\"https://beta.techcrunch.com/wp-content/uploads/2016/12/3429168502_121cd39fa4_o.jpg?w=680\" width=400 >\n",
    "\n",
    "  - Want a car? Go to the car dealer!\n",
    "\n",
    "    <img src=\"https://i1.wp.com/naijaxtreme.com/wp-content/uploads/2021/01/Car-Dealers-In-Nigeria-2.png?fit=650%2C365&ssl=1\" width=400 >\n",
    "\n",
    "  - Want some books? Go to the bookstore!\n",
    "\n",
    "    <img src=\"https://booksellers.ng/image/cache/catalog/hab8-890x470.jpg\" width=400 >\n",
    "\n",
    "- **We find things faster by grouping \"related entities\" together!**\n"
   ]
  },
  {
   "cell_type": "markdown",
   "metadata": {},
   "source": [
    "## 4. Grouping the dictionary\n"
   ]
  },
  {
   "cell_type": "markdown",
   "metadata": {},
   "source": [
    "- We'll use a similar technique to speed up our dictionary.\n",
    "\n",
    "- Instead of putting all the words in one big list, we'll group them by their first characters.\n",
    "\n",
    "- All the words starting with 'a' in one list, all the words starting with 'b' in another list, and so on.\n"
   ]
  },
  {
   "cell_type": "code",
   "execution_count": null,
   "metadata": {},
   "outputs": [],
   "source": [
    "import string\n",
    "\n",
    "\n",
    "def insert_into_group(dictionary: List[List[str]], word: str) -> None:\n",
    "    group_index = string.ascii_lowercase.index(word[0])\n",
    "    dictionary[group_index].append(word)\n",
    "\n",
    "\n",
    "grouped_dictionary = [[] for i in range(26)]\n",
    "insert_into_group(grouped_dictionary, 'ant')\n",
    "insert_into_group(grouped_dictionary, 'antelope')\n",
    "insert_into_group(grouped_dictionary, 'bear')\n",
    "insert_into_group(grouped_dictionary, 'lion')\n",
    "insert_into_group(grouped_dictionary, 'rhino')\n",
    "\n",
    "assert grouped_dictionary[0][0] == 'ant'\n",
    "assert grouped_dictionary[0][1] == 'antelope'\n",
    "assert grouped_dictionary[1][0] == 'bear'\n",
    "assert grouped_dictionary[11][0] == 'lion'\n",
    "\n",
    "pprint(grouped_dictionary)\n"
   ]
  },
  {
   "cell_type": "markdown",
   "metadata": {},
   "source": [
    "- Now, instead of searching the entire dictionary, we only check the \"child dictionary\" starting with the same character as the prefix.\n"
   ]
  },
  {
   "cell_type": "code",
   "execution_count": null,
   "metadata": {},
   "outputs": [],
   "source": [
    "def group_contains_prefix(dictionary: List[List[str]], prefix: str) -> bool:\n",
    "    group_index = string.ascii_lowercase.index(prefix[0])\n",
    "    return contains_prefix(dictionary[group_index], prefix)\n",
    "\n",
    "\n",
    "assert group_contains_prefix(grouped_dictionary, 'ant') is True\n",
    "assert group_contains_prefix(grouped_dictionary, 'bear') is True\n",
    "assert group_contains_prefix(grouped_dictionary, 'zebra') is False\n"
   ]
  },
  {
   "cell_type": "markdown",
   "metadata": {},
   "source": [
    "## 5. Grouping the dictionary\n"
   ]
  },
  {
   "cell_type": "markdown",
   "metadata": {},
   "source": [
    "- Instead of searching the entire dictionary, we now only check the \"child dictionary\" starting with the same character as the prefix.\n",
    "\n",
    "- It's just like going directly to the bookstore to buy books!\n",
    "\n",
    "- Assuming the words are evenly distributed among the child dictionaries, the time complexity will be $O(1 + (p / 26) * q)$\n",
    "\n",
    "  - Check for the correct child dictionary based on the first character: $O(1)$\n",
    "\n",
    "  - Check for the prefix in the child dictionary: $O((p / 26) * q)$\n",
    "\n",
    "- $O(1 + (p / 26)*q)$ is better than $O(p * q)$!\n",
    "\n",
    "- **Can we do even better?**\n"
   ]
  },
  {
   "cell_type": "markdown",
   "metadata": {},
   "source": [
    "## 6. Grouping the dictionary (twice)\n",
    "\n",
    "- We'll applying the grouping technique again, this time grouping words by their first **and second** characters.\n",
    "\n",
    "- All the words starting with 'aa' in one list, all the words starting with 'ab' in another list, both inside the 'a' list, etc.\n"
   ]
  },
  {
   "cell_type": "code",
   "execution_count": null,
   "metadata": {},
   "outputs": [],
   "source": [
    "def insert_into_group_2(dictionary: List[List[List[str]]], word: str) -> None:\n",
    "    group1_index = string.ascii_lowercase.index(word[0])\n",
    "    group2_index = string.ascii_lowercase.index(word[1])\n",
    "    dictionary[group1_index][group2_index].append(word)\n",
    "\n",
    "\n",
    "grouped_2_dictionary = [[[] for i in range(26)] for i in range(26)]\n",
    "insert_into_group_2(grouped_2_dictionary, 'ant')\n",
    "insert_into_group_2(grouped_2_dictionary, 'antelope')\n",
    "insert_into_group_2(grouped_2_dictionary, 'bear')\n",
    "insert_into_group_2(grouped_2_dictionary, 'boar')\n",
    "insert_into_group_2(grouped_2_dictionary, 'lion')\n",
    "insert_into_group_2(grouped_2_dictionary, 'rhino')\n",
    "\n",
    "pprint(grouped_2_dictionary)\n"
   ]
  },
  {
   "cell_type": "markdown",
   "metadata": {},
   "source": [
    "# 7. Grouping the dictionary (twice)"
   ]
  },
  {
   "cell_type": "markdown",
   "metadata": {},
   "source": [
    "- **Wait a second...**\n",
    "\n",
    "- What about one-letter words?"
   ]
  },
  {
   "cell_type": "code",
   "execution_count": null,
   "metadata": {},
   "outputs": [],
   "source": [
    "from dataclasses import dataclass\n",
    "\n",
    "\n",
    "@dataclass\n",
    "class Dictionary:\n",
    "    children: list\n",
    "    end_of_word = False\n",
    "\n",
    "\n",
    "def insert_into_group_2(dictionary: Dictionary, word: str) -> None:\n",
    "    group = dictionary.children[string.ascii_lowercase.index(word[0])]\n",
    "\n",
    "    if len(word) == 1:\n",
    "        group.end_of_word = True\n",
    "        return\n",
    "\n",
    "    group = group.children[string.ascii_lowercase.index(word[1])]\n",
    "    if len(word) == 2:\n",
    "        group.end_of_word = True\n",
    "        return\n",
    "\n",
    "    group.children.append(word)\n",
    "\n",
    "\n",
    "grouped_2_dictionary = Dictionary(children=[\n",
    "    Dictionary(children=[\n",
    "        Dictionary(children=[]) for i in range(26)\n",
    "    ]) for i in range(26)\n",
    "])\n",
    "insert_into_group_2(grouped_2_dictionary, 'a')\n",
    "insert_into_group_2(grouped_2_dictionary, 'ant')\n",
    "insert_into_group_2(grouped_2_dictionary, 'antelope')\n",
    "insert_into_group_2(grouped_2_dictionary, 'bear')\n",
    "insert_into_group_2(grouped_2_dictionary, 'boar')\n",
    "insert_into_group_2(grouped_2_dictionary, 'lion')\n",
    "insert_into_group_2(grouped_2_dictionary, 'rhino')\n",
    "\n",
    "pprint(grouped_2_dictionary)\n",
    "pprint(grouped_2_dictionary.children[0].end_of_word)\n"
   ]
  },
  {
   "cell_type": "markdown",
   "metadata": {},
   "source": [
    "- Now, we only check the \"child dictionary\" starting with the same **first and second** character as the prefix.\n",
    "\n",
    "- But if the prefix is less than two characters long, we simply check for the `end_of_word` token.\n"
   ]
  },
  {
   "cell_type": "code",
   "execution_count": null,
   "metadata": {},
   "outputs": [],
   "source": [
    "def group_2_contains_prefix(dictionary: Dictionary, prefix: str) -> bool:\n",
    "    group = dictionary.children[string.ascii_lowercase.index(prefix[0])]\n",
    "    if len(prefix) == 1:\n",
    "        return group.end_of_word\n",
    "\n",
    "    group = group.children[string.ascii_lowercase.index(prefix[1])]\n",
    "    return contains_prefix(group.children, prefix)\n",
    "\n",
    "\n",
    "assert group_2_contains_prefix(grouped_2_dictionary, 'ant') is True\n",
    "assert group_2_contains_prefix(grouped_2_dictionary, 'bear') is True\n",
    "assert group_2_contains_prefix(grouped_2_dictionary, 'zebra') is False\n",
    "\n",
    "assert group_2_contains_prefix(grouped_2_dictionary, 'a') is True\n",
    "assert group_2_contains_prefix(grouped_2_dictionary, 'z') is False\n"
   ]
  },
  {
   "cell_type": "markdown",
   "metadata": {},
   "source": [
    "## 8. Grouping the dictionary (twice)"
   ]
  },
  {
   "cell_type": "markdown",
   "metadata": {},
   "source": [
    "- Assuming the words are evenly distributed among the child dictionaries, the time complexity will be $O(2 + (p / (26 * 26)) * q)$\n",
    "\n",
    "  - Check for the correct child dictionary based on the first and second characters: $O(2)$\n",
    "\n",
    "  - Check for the prefix in the child dictionary: $O((p / (26 * 26)) * q)$\n",
    "\n",
    "- $O(2 + (p / (26 * 26)) * q)$ is even better than $O(1 + (p / 26) * q)$!\n",
    "\n",
    "- **How much better can it get?**\n"
   ]
  },
  {
   "cell_type": "markdown",
   "metadata": {},
   "source": [
    "## 9. As many groups as you need"
   ]
  },
  {
   "cell_type": "markdown",
   "metadata": {},
   "source": [
    "- Group by not just the first one or two characters, but by **all** the characters in the word\n",
    "\n",
    "- When we add \"zebra\" to the dictionary, we'll create groups for words starting with \"z\", \"ze\", \"zeb\", \"zebr\", and \"zebra\"\n",
    "\n",
    "- This is a trie!\n"
   ]
  },
  {
   "cell_type": "code",
   "execution_count": null,
   "metadata": {},
   "outputs": [],
   "source": [
    "from typing import Optional\n",
    "\n",
    "\n",
    "@dataclass\n",
    "class Trie:\n",
    "    children: List[Optional['Trie']]\n",
    "    end_of_word = False\n",
    "\n",
    "\n",
    "def insert_into_trie(trie: Trie, word: str) -> None:\n",
    "    current: Trie = trie\n",
    "\n",
    "    for char in word:\n",
    "        group_index = string.ascii_lowercase.index(char)\n",
    "        if current.children[group_index] is None:\n",
    "            current.children[group_index] = Trie(\n",
    "                children=[None for i in range(26)])\n",
    "\n",
    "        current = current.children[group_index]\n",
    "\n",
    "    current.end_of_word = True\n",
    "\n",
    "\n",
    "trie = Trie(children=[None for i in range(26)])\n",
    "insert_into_trie(trie, 'a')\n",
    "insert_into_trie(trie, 'ant')\n",
    "insert_into_trie(trie, 'antelope')\n",
    "insert_into_trie(trie, 'bear')\n",
    "insert_into_trie(trie, 'boar')\n",
    "insert_into_trie(trie, 'lion')\n",
    "insert_into_trie(trie, 'rhino')\n",
    "\n",
    "pprint(trie)\n"
   ]
  },
  {
   "cell_type": "markdown",
   "metadata": {},
   "source": [
    "- That's not very easy to read. Let's add a pretty printer!"
   ]
  },
  {
   "cell_type": "code",
   "execution_count": null,
   "metadata": {},
   "outputs": [],
   "source": [
    "def print_trie(trie: Trie, depth=0) -> None:\n",
    "    for (i, child) in enumerate(trie.children):\n",
    "        if child is not None:\n",
    "            print(\n",
    "                f'{\"-\": >{depth * 4}} {string.ascii_lowercase[i]} {\"(word)\" if child.end_of_word else \"\"}')\n",
    "            print_trie(child, depth + 1)\n",
    "\n",
    "\n",
    "print_trie(trie)\n"
   ]
  },
  {
   "cell_type": "markdown",
   "metadata": {},
   "source": [
    "> A trie is a _really_ compressed list of strings\n"
   ]
  }
 ],
 "metadata": {
  "kernelspec": {
   "display_name": "Python 3.10.7 64-bit",
   "language": "python",
   "name": "python3"
  },
  "language_info": {
   "codemirror_mode": {
    "name": "ipython",
    "version": 3
   },
   "file_extension": ".py",
   "mimetype": "text/x-python",
   "name": "python",
   "nbconvert_exporter": "python",
   "pygments_lexer": "ipython3",
   "version": "3.10.7"
  },
  "orig_nbformat": 4,
  "vscode": {
   "interpreter": {
    "hash": "aee8b7b246df8f9039afb4144a1f6fd8d2ca17a180786b69acc140d282b71a49"
   }
  }
 },
 "nbformat": 4,
 "nbformat_minor": 2
}
